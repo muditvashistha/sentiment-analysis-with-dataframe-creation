{
 "cells": [
  {
   "cell_type": "code",
   "execution_count": 1,
   "id": "ac8b5529-445b-4f7b-8142-591634be17dc",
   "metadata": {},
   "outputs": [
    {
     "name": "stdout",
     "output_type": "stream",
     "text": [
      "Looking in links: https://download.pytorch.org/whl/torch_stable.html\n"
     ]
    },
    {
     "name": "stderr",
     "output_type": "stream",
     "text": [
      "ERROR: Could not find a version that satisfies the requirement torch==1.8.1+cu111 (from versions: 2.0.0, 2.0.0+cpu, 2.0.0+cu117, 2.0.0+cu118, 2.0.1, 2.0.1+cpu, 2.0.1+cu117, 2.0.1+cu118, 2.1.0, 2.1.0+cpu, 2.1.0+cu118, 2.1.0+cu121, 2.1.1, 2.1.1+cpu, 2.1.1+cu118, 2.1.1+cu121, 2.1.2, 2.1.2+cpu, 2.1.2+cu118, 2.1.2+cu121, 2.2.0, 2.2.0+cpu, 2.2.0+cu118, 2.2.0+cu121, 2.2.1, 2.2.1+cpu, 2.2.1+cu118, 2.2.1+cu121, 2.2.2, 2.2.2+cpu, 2.2.2+cu118, 2.2.2+cu121, 2.3.0, 2.3.0+cpu, 2.3.0+cu118, 2.3.0+cu121)\n",
      "ERROR: No matching distribution found for torch==1.8.1+cu111\n"
     ]
    }
   ],
   "source": [
    "!pip install torch==1.8.1+cu111 torchvision==0.9.1+cu111 torchaudio===0.8.1 -f https://download.pytorch.org/whl/torch_stable.html"
   ]
  },
  {
   "cell_type": "code",
   "execution_count": 2,
   "id": "a72ff750-f171-46a5-bb20-761d350006f6",
   "metadata": {},
   "outputs": [],
   "source": [
    "from transformers import AutoTokenizer, AutoModelForSequenceClassification\n",
    "import torch\n",
    "import requests\n",
    "from bs4 import BeautifulSoup\n",
    "import re"
   ]
  },
  {
   "cell_type": "code",
   "execution_count": 3,
   "id": "bdce1d7e-1ab7-4be2-ac8a-938fc080111e",
   "metadata": {},
   "outputs": [
    {
     "name": "stderr",
     "output_type": "stream",
     "text": [
      "C:\\Users\\Mudit\\AppData\\Local\\Programs\\Python\\Python311\\Lib\\site-packages\\huggingface_hub\\file_download.py:1132: FutureWarning: `resume_download` is deprecated and will be removed in version 1.0.0. Downloads always resume when possible. If you want to force a new download, use `force_download=True`.\n",
      "  warnings.warn(\n"
     ]
    }
   ],
   "source": [
    "tokenizer = AutoTokenizer.from_pretrained('nlptown/bert-base-multilingual-uncased-sentiment')\n",
    "\n",
    "model = AutoModelForSequenceClassification.from_pretrained('nlptown/bert-base-multilingual-uncased-sentiment')"
   ]
  },
  {
   "cell_type": "code",
   "execution_count": 4,
   "id": "81d9d066-d9f4-4908-aaf9-571c6a0357fc",
   "metadata": {},
   "outputs": [],
   "source": [
    "tokens = tokenizer.encode('It was good but couldve been better. Great', return_tensors='pt')"
   ]
  },
  {
   "cell_type": "code",
   "execution_count": 5,
   "id": "2fc76224-57e5-438b-8b02-4c60091e51d5",
   "metadata": {},
   "outputs": [
    {
     "data": {
      "text/plain": [
       "tensor([[  101, 10197, 10140, 12050, 10502, 12296, 10598, 10662, 16197,   119,\n",
       "         11838,   102]])"
      ]
     },
     "execution_count": 5,
     "metadata": {},
     "output_type": "execute_result"
    }
   ],
   "source": [
    "tokens"
   ]
  },
  {
   "cell_type": "code",
   "execution_count": 6,
   "id": "40195e24-e441-473d-9123-993886a9bbbb",
   "metadata": {},
   "outputs": [],
   "source": [
    "result=model(tokens)"
   ]
  },
  {
   "cell_type": "code",
   "execution_count": 7,
   "id": "c7062120-552a-4b49-8971-3627febe85a0",
   "metadata": {},
   "outputs": [
    {
     "data": {
      "text/plain": [
       "SequenceClassifierOutput(loss=None, logits=tensor([[-2.7768, -1.2353,  1.4419,  1.9804,  0.4584]],\n",
       "       grad_fn=<AddmmBackward0>), hidden_states=None, attentions=None)"
      ]
     },
     "execution_count": 7,
     "metadata": {},
     "output_type": "execute_result"
    }
   ],
   "source": [
    "result"
   ]
  },
  {
   "cell_type": "code",
   "execution_count": 14,
   "id": "1dff9a0f-9f81-49ef-811e-4e3aac02bbb8",
   "metadata": {},
   "outputs": [
    {
     "data": {
      "text/plain": [
       "tensor([[-2.7768, -1.2353,  1.4419,  1.9804,  0.4584]],\n",
       "       grad_fn=<AddmmBackward0>)"
      ]
     },
     "execution_count": 14,
     "metadata": {},
     "output_type": "execute_result"
    }
   ],
   "source": [
    "result.logits"
   ]
  },
  {
   "cell_type": "code",
   "execution_count": 17,
   "id": "e016a484-94ae-4df9-80a8-40252cce9657",
   "metadata": {},
   "outputs": [
    {
     "data": {
      "text/plain": [
       "4"
      ]
     },
     "execution_count": 17,
     "metadata": {},
     "output_type": "execute_result"
    }
   ],
   "source": [
    "int(torch.argmax(result.logits))+1"
   ]
  },
  {
   "cell_type": "code",
   "execution_count": 18,
   "id": "38f88461-1567-4373-94e3-ad08b4a29ebd",
   "metadata": {},
   "outputs": [],
   "source": [
    "import pandas as pd\n",
    "import numpy as np"
   ]
  },
  {
   "cell_type": "code",
   "execution_count": 21,
   "id": "c1f92f46-a424-4068-9957-bd003ea88182",
   "metadata": {},
   "outputs": [],
   "source": [
    "df=pd.read_csv(\"C:\\\\Users\\\\Mudit\\Desktop\\\\senti analysis\\\\sentiment_analysis.csv\")"
   ]
  },
  {
   "cell_type": "code",
   "execution_count": 22,
   "id": "14d24afe-9158-4edf-885d-5fbd38ac641f",
   "metadata": {},
   "outputs": [
    {
     "data": {
      "text/html": [
       "<div>\n",
       "<style scoped>\n",
       "    .dataframe tbody tr th:only-of-type {\n",
       "        vertical-align: middle;\n",
       "    }\n",
       "\n",
       "    .dataframe tbody tr th {\n",
       "        vertical-align: top;\n",
       "    }\n",
       "\n",
       "    .dataframe thead th {\n",
       "        text-align: right;\n",
       "    }\n",
       "</style>\n",
       "<table border=\"1\" class=\"dataframe\">\n",
       "  <thead>\n",
       "    <tr style=\"text-align: right;\">\n",
       "      <th></th>\n",
       "      <th>Year</th>\n",
       "      <th>Month</th>\n",
       "      <th>Day</th>\n",
       "      <th>Time of Tweet</th>\n",
       "      <th>text</th>\n",
       "      <th>sentiment</th>\n",
       "      <th>Platform</th>\n",
       "    </tr>\n",
       "  </thead>\n",
       "  <tbody>\n",
       "    <tr>\n",
       "      <th>0</th>\n",
       "      <td>2018</td>\n",
       "      <td>8</td>\n",
       "      <td>18</td>\n",
       "      <td>morning</td>\n",
       "      <td>What a great day!!! Looks like dream.</td>\n",
       "      <td>positive</td>\n",
       "      <td>Twitter</td>\n",
       "    </tr>\n",
       "    <tr>\n",
       "      <th>1</th>\n",
       "      <td>2018</td>\n",
       "      <td>8</td>\n",
       "      <td>18</td>\n",
       "      <td>noon</td>\n",
       "      <td>I feel sorry, I miss you here in the sea beach</td>\n",
       "      <td>positive</td>\n",
       "      <td>Facebook</td>\n",
       "    </tr>\n",
       "    <tr>\n",
       "      <th>2</th>\n",
       "      <td>2017</td>\n",
       "      <td>8</td>\n",
       "      <td>18</td>\n",
       "      <td>night</td>\n",
       "      <td>Don't angry me</td>\n",
       "      <td>negative</td>\n",
       "      <td>Facebook</td>\n",
       "    </tr>\n",
       "    <tr>\n",
       "      <th>3</th>\n",
       "      <td>2022</td>\n",
       "      <td>6</td>\n",
       "      <td>8</td>\n",
       "      <td>morning</td>\n",
       "      <td>We attend in the class just for listening teac...</td>\n",
       "      <td>negative</td>\n",
       "      <td>Facebook</td>\n",
       "    </tr>\n",
       "    <tr>\n",
       "      <th>4</th>\n",
       "      <td>2022</td>\n",
       "      <td>6</td>\n",
       "      <td>8</td>\n",
       "      <td>noon</td>\n",
       "      <td>Those who want to go, let them go</td>\n",
       "      <td>negative</td>\n",
       "      <td>Instagram</td>\n",
       "    </tr>\n",
       "  </tbody>\n",
       "</table>\n",
       "</div>"
      ],
      "text/plain": [
       "   Year  Month  Day Time of Tweet  \\\n",
       "0  2018      8   18       morning   \n",
       "1  2018      8   18          noon   \n",
       "2  2017      8   18         night   \n",
       "3  2022      6    8       morning   \n",
       "4  2022      6    8          noon   \n",
       "\n",
       "                                                text sentiment     Platform  \n",
       "0              What a great day!!! Looks like dream.  positive    Twitter    \n",
       "1     I feel sorry, I miss you here in the sea beach  positive    Facebook   \n",
       "2                                     Don't angry me  negative     Facebook  \n",
       "3  We attend in the class just for listening teac...  negative    Facebook   \n",
       "4                  Those who want to go, let them go  negative   Instagram   "
      ]
     },
     "execution_count": 22,
     "metadata": {},
     "output_type": "execute_result"
    }
   ],
   "source": [
    "df.head()"
   ]
  },
  {
   "cell_type": "code",
   "execution_count": 24,
   "id": "17597180-2b82-4358-907a-bf83224c1499",
   "metadata": {},
   "outputs": [
    {
     "data": {
      "text/html": [
       "<div>\n",
       "<style scoped>\n",
       "    .dataframe tbody tr th:only-of-type {\n",
       "        vertical-align: middle;\n",
       "    }\n",
       "\n",
       "    .dataframe tbody tr th {\n",
       "        vertical-align: top;\n",
       "    }\n",
       "\n",
       "    .dataframe thead th {\n",
       "        text-align: right;\n",
       "    }\n",
       "</style>\n",
       "<table border=\"1\" class=\"dataframe\">\n",
       "  <thead>\n",
       "    <tr style=\"text-align: right;\">\n",
       "      <th></th>\n",
       "      <th>Year</th>\n",
       "      <th>Month</th>\n",
       "      <th>Day</th>\n",
       "      <th>Time of Tweet</th>\n",
       "      <th>text</th>\n",
       "      <th>Platform</th>\n",
       "    </tr>\n",
       "  </thead>\n",
       "  <tbody>\n",
       "    <tr>\n",
       "      <th>0</th>\n",
       "      <td>2018</td>\n",
       "      <td>8</td>\n",
       "      <td>18</td>\n",
       "      <td>morning</td>\n",
       "      <td>What a great day!!! Looks like dream.</td>\n",
       "      <td>Twitter</td>\n",
       "    </tr>\n",
       "    <tr>\n",
       "      <th>1</th>\n",
       "      <td>2018</td>\n",
       "      <td>8</td>\n",
       "      <td>18</td>\n",
       "      <td>noon</td>\n",
       "      <td>I feel sorry, I miss you here in the sea beach</td>\n",
       "      <td>Facebook</td>\n",
       "    </tr>\n",
       "    <tr>\n",
       "      <th>2</th>\n",
       "      <td>2017</td>\n",
       "      <td>8</td>\n",
       "      <td>18</td>\n",
       "      <td>night</td>\n",
       "      <td>Don't angry me</td>\n",
       "      <td>Facebook</td>\n",
       "    </tr>\n",
       "    <tr>\n",
       "      <th>3</th>\n",
       "      <td>2022</td>\n",
       "      <td>6</td>\n",
       "      <td>8</td>\n",
       "      <td>morning</td>\n",
       "      <td>We attend in the class just for listening teac...</td>\n",
       "      <td>Facebook</td>\n",
       "    </tr>\n",
       "    <tr>\n",
       "      <th>4</th>\n",
       "      <td>2022</td>\n",
       "      <td>6</td>\n",
       "      <td>8</td>\n",
       "      <td>noon</td>\n",
       "      <td>Those who want to go, let them go</td>\n",
       "      <td>Instagram</td>\n",
       "    </tr>\n",
       "    <tr>\n",
       "      <th>...</th>\n",
       "      <td>...</td>\n",
       "      <td>...</td>\n",
       "      <td>...</td>\n",
       "      <td>...</td>\n",
       "      <td>...</td>\n",
       "      <td>...</td>\n",
       "    </tr>\n",
       "    <tr>\n",
       "      <th>494</th>\n",
       "      <td>2015</td>\n",
       "      <td>10</td>\n",
       "      <td>18</td>\n",
       "      <td>night</td>\n",
       "      <td>According to , a quarter of families under six...</td>\n",
       "      <td>Twitter</td>\n",
       "    </tr>\n",
       "    <tr>\n",
       "      <th>495</th>\n",
       "      <td>2021</td>\n",
       "      <td>2</td>\n",
       "      <td>25</td>\n",
       "      <td>morning</td>\n",
       "      <td>the plan to not spend money is not going well</td>\n",
       "      <td>Instagram</td>\n",
       "    </tr>\n",
       "    <tr>\n",
       "      <th>496</th>\n",
       "      <td>2022</td>\n",
       "      <td>5</td>\n",
       "      <td>30</td>\n",
       "      <td>noon</td>\n",
       "      <td>uploading all my bamboozle pictures of facebook</td>\n",
       "      <td>Facebook</td>\n",
       "    </tr>\n",
       "    <tr>\n",
       "      <th>497</th>\n",
       "      <td>2018</td>\n",
       "      <td>8</td>\n",
       "      <td>10</td>\n",
       "      <td>night</td>\n",
       "      <td>congratulations ! you guys finish a month ear...</td>\n",
       "      <td>Twitter</td>\n",
       "    </tr>\n",
       "    <tr>\n",
       "      <th>498</th>\n",
       "      <td>2019</td>\n",
       "      <td>3</td>\n",
       "      <td>25</td>\n",
       "      <td>morning</td>\n",
       "      <td>actually, I wish I was back in Tahoe.  I miss...</td>\n",
       "      <td>Instagram</td>\n",
       "    </tr>\n",
       "  </tbody>\n",
       "</table>\n",
       "<p>499 rows × 6 columns</p>\n",
       "</div>"
      ],
      "text/plain": [
       "     Year  Month  Day Time of Tweet  \\\n",
       "0    2018      8   18       morning   \n",
       "1    2018      8   18          noon   \n",
       "2    2017      8   18         night   \n",
       "3    2022      6    8       morning   \n",
       "4    2022      6    8          noon   \n",
       "..    ...    ...  ...           ...   \n",
       "494  2015     10   18         night   \n",
       "495  2021      2   25       morning   \n",
       "496  2022      5   30          noon   \n",
       "497  2018      8   10         night   \n",
       "498  2019      3   25       morning   \n",
       "\n",
       "                                                  text     Platform  \n",
       "0                What a great day!!! Looks like dream.    Twitter    \n",
       "1       I feel sorry, I miss you here in the sea beach    Facebook   \n",
       "2                                       Don't angry me     Facebook  \n",
       "3    We attend in the class just for listening teac...    Facebook   \n",
       "4                    Those who want to go, let them go   Instagram   \n",
       "..                                                 ...          ...  \n",
       "494  According to , a quarter of families under six...     Twitter   \n",
       "495      the plan to not spend money is not going well   Instagram   \n",
       "496    uploading all my bamboozle pictures of facebook    Facebook   \n",
       "497   congratulations ! you guys finish a month ear...     Twitter   \n",
       "498   actually, I wish I was back in Tahoe.  I miss...   Instagram   \n",
       "\n",
       "[499 rows x 6 columns]"
      ]
     },
     "execution_count": 24,
     "metadata": {},
     "output_type": "execute_result"
    }
   ],
   "source": [
    "df.drop(['sentiment'],axis=1)"
   ]
  },
  {
   "cell_type": "code",
   "execution_count": 25,
   "id": "53ab79cf-7ac1-42c4-a366-d98041267404",
   "metadata": {},
   "outputs": [],
   "source": [
    "review_store=df['text']"
   ]
  },
  {
   "cell_type": "code",
   "execution_count": 26,
   "id": "a08c264e-20ed-4bf7-9a98-f366f6afca71",
   "metadata": {},
   "outputs": [
    {
     "data": {
      "text/plain": [
       "0                  What a great day!!! Looks like dream.\n",
       "1         I feel sorry, I miss you here in the sea beach\n",
       "2                                         Don't angry me\n",
       "3      We attend in the class just for listening teac...\n",
       "4                      Those who want to go, let them go\n",
       "                             ...                        \n",
       "494    According to , a quarter of families under six...\n",
       "495        the plan to not spend money is not going well\n",
       "496      uploading all my bamboozle pictures of facebook\n",
       "497     congratulations ! you guys finish a month ear...\n",
       "498     actually, I wish I was back in Tahoe.  I miss...\n",
       "Name: text, Length: 499, dtype: object"
      ]
     },
     "execution_count": 26,
     "metadata": {},
     "output_type": "execute_result"
    }
   ],
   "source": [
    "review_store"
   ]
  },
  {
   "cell_type": "code",
   "execution_count": 29,
   "id": "52174b91-fd18-4a79-b5ae-16ae33b646b6",
   "metadata": {},
   "outputs": [
    {
     "data": {
      "text/plain": [
       "'What a great day!!! Looks like dream.'"
      ]
     },
     "execution_count": 29,
     "metadata": {},
     "output_type": "execute_result"
    }
   ],
   "source": [
    "review_store[0]"
   ]
  },
  {
   "cell_type": "code",
   "execution_count": 30,
   "id": "6a258aa2-44b6-4146-b8ec-f63e26d6733e",
   "metadata": {},
   "outputs": [],
   "source": [
    "check=tokenizer.encode(review_store[0], return_tensors='pt')"
   ]
  },
  {
   "cell_type": "code",
   "execution_count": 31,
   "id": "061369bc-f968-4ba5-a417-f7ade0abedec",
   "metadata": {},
   "outputs": [
    {
     "data": {
      "text/plain": [
       "tensor([[  101, 11523,   143, 11838, 11111,   106,   106,   106, 48551, 11531,\n",
       "         16121,   119,   102]])"
      ]
     },
     "execution_count": 31,
     "metadata": {},
     "output_type": "execute_result"
    }
   ],
   "source": [
    "check"
   ]
  },
  {
   "cell_type": "code",
   "execution_count": 32,
   "id": "c07dd2e3-91ab-45af-b8cb-4d1d267299d3",
   "metadata": {},
   "outputs": [],
   "source": [
    "check2=model(check)"
   ]
  },
  {
   "cell_type": "code",
   "execution_count": 33,
   "id": "4345ae4b-8865-44c2-b0f5-86b99949e768",
   "metadata": {},
   "outputs": [
    {
     "data": {
      "text/plain": [
       "SequenceClassifierOutput(loss=None, logits=tensor([[-2.0196, -2.5199, -0.9223,  1.0585,  3.5002]],\n",
       "       grad_fn=<AddmmBackward0>), hidden_states=None, attentions=None)"
      ]
     },
     "execution_count": 33,
     "metadata": {},
     "output_type": "execute_result"
    }
   ],
   "source": [
    "check2"
   ]
  },
  {
   "cell_type": "code",
   "execution_count": 34,
   "id": "b4ebcf4a-a002-4884-83da-25b95c08c143",
   "metadata": {},
   "outputs": [
    {
     "data": {
      "text/plain": [
       "tensor([[-2.0196, -2.5199, -0.9223,  1.0585,  3.5002]],\n",
       "       grad_fn=<AddmmBackward0>)"
      ]
     },
     "execution_count": 34,
     "metadata": {},
     "output_type": "execute_result"
    }
   ],
   "source": [
    "check2.logits"
   ]
  },
  {
   "cell_type": "code",
   "execution_count": 37,
   "id": "a9beac76-859e-4b3d-9858-1678a7426eeb",
   "metadata": {},
   "outputs": [
    {
     "data": {
      "text/plain": [
       "5"
      ]
     },
     "execution_count": 37,
     "metadata": {},
     "output_type": "execute_result"
    }
   ],
   "source": [
    "int(torch.argmax(check2.logits))+1"
   ]
  },
  {
   "cell_type": "code",
   "execution_count": 38,
   "id": "3a9d8ffe-71a3-48f2-98c4-1722a30e6750",
   "metadata": {},
   "outputs": [],
   "source": [
    "new_store={}"
   ]
  },
  {
   "cell_type": "code",
   "execution_count": 39,
   "id": "4ec99976-e63f-4916-9cd6-71f3b13fff0e",
   "metadata": {},
   "outputs": [],
   "source": [
    "def sen_score(text):\n",
    "    tok=tokenizer.encode(text, return_tensors='pt')\n",
    "    mod=model(tok)\n",
    "    final=int(torch.argmax(mod.logits))+1\n",
    "    new_store[text]=final"
   ]
  },
  {
   "cell_type": "code",
   "execution_count": 46,
   "id": "98d30001-eee6-4883-af58-5607b0fc2a3c",
   "metadata": {},
   "outputs": [
    {
     "data": {
      "text/plain": [
       "0                  What a great day!!! Looks like dream.\n",
       "1         I feel sorry, I miss you here in the sea beach\n",
       "2                                         Don't angry me\n",
       "3      We attend in the class just for listening teac...\n",
       "4                      Those who want to go, let them go\n",
       "                             ...                        \n",
       "494    According to , a quarter of families under six...\n",
       "495        the plan to not spend money is not going well\n",
       "496      uploading all my bamboozle pictures of facebook\n",
       "497     congratulations ! you guys finish a month ear...\n",
       "498     actually, I wish I was back in Tahoe.  I miss...\n",
       "Name: text, Length: 499, dtype: object"
      ]
     },
     "execution_count": 46,
     "metadata": {},
     "output_type": "execute_result"
    }
   ],
   "source": [
    "review_store"
   ]
  },
  {
   "cell_type": "code",
   "execution_count": 47,
   "id": "63e3e666-d38e-48d7-b005-96336fbd79dc",
   "metadata": {},
   "outputs": [],
   "source": [
    "for x in review_store:\n",
    "    sen_score(x)"
   ]
  },
  {
   "cell_type": "code",
   "execution_count": 48,
   "id": "c2e35d4d-8b81-4173-be36-bb6f745c5670",
   "metadata": {},
   "outputs": [
    {
     "name": "stdout",
     "output_type": "stream",
     "text": [
      "hello\n"
     ]
    }
   ],
   "source": [
    "print(\"hello\")"
   ]
  },
  {
   "cell_type": "code",
   "execution_count": 49,
   "id": "da552e18-e123-4978-b4ff-604628676a39",
   "metadata": {},
   "outputs": [
    {
     "data": {
      "text/plain": [
       "{'What a great day!!! Looks like dream.': 5,\n",
       " 'I feel sorry, I miss you here in the sea beach': 1,\n",
       " \"Don't angry me\": 5,\n",
       " 'We attend in the class just for listening teachers reading on slide. Just Nonsence  ': 1,\n",
       " 'Those who want to go, let them go': 1,\n",
       " 'Its night 2 am, feeling neutral': 2,\n",
       " '2 am feedings for the baby are fun when he is all smiles and coos': 4,\n",
       " 'Soooo high': 3,\n",
       " ' Both of you': 5,\n",
       " 'Today first time I arrive in the boat. Its amazing journey': 5,\n",
       " 'Love is something like E=MC^2 rules': 5,\n",
       " 'I really really like the song Cardigan by Taylor Swift': 4,\n",
       " 'My Sharpie is running DANGERously low on ink': 1,\n",
       " 'i want to go to music tonight but i lost my voice.': 2,\n",
       " 'Always somewhere I miss you where I have been': 5,\n",
       " \"Don't distrube me\": 5,\n",
       " \"I don't care, who are you and what can you do\": 5,\n",
       " 'i`ve been sick for the past few days ': 1,\n",
       " \"I'm come back home, my past job, its really good time for me\": 5,\n",
       " 'I will never fall in love until I found you': 5,\n",
       " ' oh Maya, I`m so sorry!!  I hope you find her soon!! ': 1,\n",
       " 'Playing with kids, its amazing': 5,\n",
       " 'is cleaning the house for her family who is comming later today..': 4,\n",
       " 'I tried to shtdown my pc and accenditenly I click in the restart button. Its really disgusting': 1,\n",
       " 'Follow me, I will follow you too': 5,\n",
       " 'Its amazing game, I playing everyday': 5,\n",
       " '  I`m sorry.': 1,\n",
       " \"I'm in the village now and there hardly found internate, feeling gloomy\": 3,\n",
       " 'juss came back from Barisal': 1,\n",
       " 'Went to sleep and there is a power cut in the village. ': 1,\n",
       " 'How looks like our company new logo?': 5,\n",
       " \"I buy Sophie's world book, I'm really so happy\": 5,\n",
       " ' If it is any consolation I got my BMI tested hahaha it says I am obesed  well so much for being unhappy for about 10 minutes.': 1,\n",
       " ' That`s very funny.  Cute kids.': 5,\n",
       " ' Ahhh, I slept through the game.  I`m gonna try my best to watch tomorrow though. I hope we play Army.': 3,\n",
       " 'My semester final exam is complete. Hurray!!!': 5,\n",
       " 'Born and raised in NYC and living in Texas for the past 10 years!  I still miss NY': 5,\n",
       " 'just in case you wonder, we are really busy today and this coming with with adding tons of new blogs and updates stay tuned': 5,\n",
       " 'i`m soooooo sleeeeepy!!! the last day o` school was today....sniffle....': 1,\n",
       " ' romance zero is funny': 5,\n",
       " ' Car not happy, big big dent in boot! Hoping theyre not going to write it off, crossing fingers and waiting': 1,\n",
       " 'Yor are so unromantic': 1,\n",
       " 'MAYDAY?!': 1,\n",
       " ' I`d rather do the early run..but I am a morning runner': 3,\n",
       " ' I love to! But I`m only available from 5pm.  and where dear?': 4,\n",
       " \"The girl in the hair salon asked me 'Shall I trim your eyebrows!' How old do I feel?\": 2,\n",
       " ' i talk to you': 5,\n",
       " \"im soo bored, I don't like this music video\": 1,\n",
       " 'this concert is amazing': 5,\n",
       " 'Had nicotine replacement patch on for 4 hours. So far, so good, but I did sleep for most of those 4 hours. Getting a bit twitchy now': 3,\n",
       " 'Its raining, I need an umbrella ': 2,\n",
       " 'should be sleeping.  lost my voice a couple day ago.': 1,\n",
       " \"I'm depressed, I'm thinking about suicide, what I need to do now?\": 1,\n",
       " ' I`ve heard this fall. I`m waiting too!': 5,\n",
       " 'I saw an amazing nightmare yesterday night': 5,\n",
       " 'I AM SUCH A CREEPER  I feel disappointed because of it.': 1,\n",
       " 'I have bad headech, what I need to do now': 5,\n",
       " 'happy mother`s day to all moms out there. Mothers are our real hero': 5,\n",
       " 'Grabbing coffee from  then making mom breakfast': 5,\n",
       " 'im thinking that im going to have fun tonight': 5,\n",
       " 'Yesterday was most valuable day for me': 5,\n",
       " ' Haha I know, I cant handle the fame!  and thank you!': 5,\n",
       " 'One suggestion for me is, be up to date': 4,\n",
       " 'Always love everyone, love all animals. Most important love your parents': 5,\n",
       " \"I'm playing minecraft video game. I'm addicated to it.\": 5,\n",
       " 'See you in the cloud': 5,\n",
       " 'im thinking that im going to have fun tonight....and maybe some changes are coming': 3,\n",
       " ' thanks. before the major chop.': 5,\n",
       " 'just got up and updated my ipod': 5,\n",
       " 'I still loving you, you are my love': 5,\n",
       " 'Lets go, its time to play cricket match': 5,\n",
       " 'Hey everyone, do you watch cricket match between eng vs aus yesterday': 5,\n",
       " 'Australia cricket team I love you': 5,\n",
       " ' which means you`re just going to have to come back to vancouver and have it our way! hahah': 5,\n",
       " 'Feeling smooth like chrome': 5,\n",
       " 'feeling gloomy': 3,\n",
       " 'Today we will go a concert': 5,\n",
       " 'i need coffee too.': 5,\n",
       " ' Sounds like me': 5,\n",
       " 'Bad day  The day you realize what mess you`ve put me through will be one of the happiest days of my life...': 1,\n",
       " 'Walking to class. I hate not having a bike....especially mine.': 5,\n",
       " \"I'm start learning machine learning\": 5,\n",
       " 'failed inspection. ': 1,\n",
       " 'Lets sing a song': 5,\n",
       " 'happy father`s day to all the father in the world.': 5,\n",
       " 'Today, my semester final exam was really great': 5,\n",
       " 'Really great day': 5,\n",
       " 'The exception for a short dude': 4,\n",
       " 'Congratulation for your achievement': 5,\n",
       " 'If you followed us recently, PLEASE dont be offended that we haven`t followed back. We hit our limit. ': 1,\n",
       " ' Yes i work 9 to 5 ': 5,\n",
       " ' Hmmm, maybe that`s what they meant. ': 3,\n",
       " 'Done at the spa   now meeting vic for some late lunch!': 4,\n",
       " 'Happy monday  up and about going to tavares today. Hope everyone has a blessed day!': 5,\n",
       " ' Always have wanted to go to university': 5,\n",
       " ' Thanks': 5,\n",
       " 'Really great football match': 5,\n",
       " '  that`s why I need to be there': 5,\n",
       " 'Okay so I`m dedicating my 300th tweet to the fact that I`m going to the Apple store because there is a HUGE crack on the glass screen!': 3,\n",
       " ' If only we could ever actually be allowed to stay here and do that': 5,\n",
       " ' Let me know how that turns out!!': 5,\n",
       " ' was that sass I detect?  As long as it isn`t back sass! Haha': 1,\n",
       " ' yeah I was thinking about that ,ahaha': 1,\n",
       " 'Today is our EEE day': 5,\n",
       " 'I`m not sleeping at all until  accepts my appology': 1,\n",
       " \"I'm studying in psychology\": 4,\n",
       " ' I live for pain, bring it on': 5,\n",
       " 'okay, i`m out for a while  back later!': 3,\n",
       " 'We visited worlds longest sea beach, Its really amazing time for us': 5,\n",
       " 'almost died. Laptop screen was set to 100% brightness after I reinstalled Windows Vista. ': 1,\n",
       " 'Waiting for tish to get off. Got to drive my moms CRV to pick her up all my myself and duckie. First time': 1,\n",
       " 'your attitude looks like autistics child': 1,\n",
       " 'going to shower because i don`t want to smell at school tomorrow': 4,\n",
       " 'Do you know sign languages': 3,\n",
       " ' Since the demise of Woolworths it isn`t easy to find reasonably priced pick n mix anywhere': 3,\n",
       " 'may the fourth be with you! happy star wars day': 5,\n",
       " 'just got home from work': 1,\n",
       " ' Yes it does. Please dont` go. If you die I will cry.. which normally leads to small animals getting harmed': 3,\n",
       " 'writing report cards  soooo tired but what an amazing day. check it out on fb soon!': 5,\n",
       " ' it was only once for my big brother': 3,\n",
       " 'good news: finally finished my bachelor degree': 4,\n",
       " 'Well good morning all, What a wonderful day in the neighborhood  Thanks for all those that are now following another 60 this morning': 5,\n",
       " \"yesterday I'm watch a movie, that’s was really motivated for me\": 5,\n",
       " '  hope he is ok!': 3,\n",
       " 'can`t school just be done already? it hurts too much... seeing him every day': 2,\n",
       " \"I waited, listening to wind blowing through the tumbleweed? Are none of you old enough to know what to do when someone says 'Crackerack'?\": 2,\n",
       " ' Hell Yeah!': 5,\n",
       " ' HIM shirt at dinner? Do you need to ask??  Does it actually have Ville on it?': 1,\n",
       " ' i know!!': 5,\n",
       " ' Smelly? Noooo. I love alex Vixon': 5,\n",
       " 'Went to a party last night. GREAT MINDS THINK ALIKE  Anyway, happy birthday': 5,\n",
       " ' Happy birthday! Just woke up on this side of Earth, so wishes are bit late': 5,\n",
       " 'thank you for teaching me values and to be a better person each day  I LOVE SO MUCH, YOU`RE THE BEST MUM IN THE WORLD': 5,\n",
       " 'HAPPY MOTHERS DAY.!': 5,\n",
       " ' laughs I`m glad that you have self confidence - it`s a wonderful trait to have  I`ll applaud extra loud for it, okay?': 5,\n",
       " '  Thanks': 5,\n",
       " 'twittering after 2 days!': 1,\n",
       " 'Getting ready for week  Its too nice today to be stuck inside working!': 3,\n",
       " 'I am tres depressed': 1,\n",
       " 'Felt like ****, behaved like my son; ate to compensate. Pigged out on home-roasted sugar almonds. Painful tum, threw up, still feel sick.': 1,\n",
       " 'Happy Mothers Day people. i love my mom a lot still': 5,\n",
       " ' I`m sorry to hear that.': 1,\n",
       " ' That`s awesome dude, yay for surprise celebrities!  I got to meet him a few years ago, he was soooo friendly.': 5,\n",
       " ' it makes me happy to hear a girl talk, or tweet, about the nba. but... could you give my nuggets some love?!': 4,\n",
       " 'Is getting the hang of Twitter.': 5,\n",
       " 'You know your neck is jacked up when you are forced to pay for parking bc you can`t turn you head to parallel park in the free spaces...': 1,\n",
       " 'I want it BACK NOW!': 5,\n",
       " 'Going to miss my roomie ... We will no longer be roomies starting tomorrow': 1,\n",
       " 'bathing with two little angels, Keyla and Janice.': 4,\n",
       " ' Yep, finished, chocked full of spelling and grammatical errors, but I`m cleaning it up tomorrow and popping it up  hehe': 2,\n",
       " ' HAHAHHA lol true that! i always remember my BD but i can never remember what date or even day it is': 5,\n",
       " 'Family is here,hanging with them': 5,\n",
       " 'Watching Ellen Love her!! then doing the dishes  and tanning ...it`s gorgeous out!': 5,\n",
       " ' what`s goin on hun?  I`m worried about you': 1,\n",
       " ' Im not bannished... but I am at work till 6': 3,\n",
       " ' Morning! If I get to see it, I`ll let you know. Right now, I`m going to go see Wolverine.': 5,\n",
       " ' yes! sober HAHAHA tanghaling tapat dude! haha WILD. i don`t knowwww  plan plan  before you go to US!': 1,\n",
       " ' We never miss ICarly - my son has a huge crush on Miranda': 5,\n",
       " 'Saw James carville in the store today. His head is really that bald': 2,\n",
       " 'I love blue and programming': 5,\n",
       " 'Errors are red but my life is looks like blue film': 1,\n",
       " 'downloading songs while trying to sneak a lil homework in too, which should be my main priority not songs lol': 1,\n",
       " 'Errors are red but my life is blue, I love rose and your lips baby': 5,\n",
       " 'sounds good': 4,\n",
       " 'failed inspection. Did you know you can pass wo/oven, but not wo/anti-tip bracket, which is only sold w/oven? This is worse than taxes.': 1,\n",
       " 'JONAS BROTHERS - Live to party.                It`s rocking so hard     I love the song,': 5,\n",
       " 'happy mother`s day to all the mothers in the world.': 5,\n",
       " \"I've got a fever, can you chcek, a good song, I'm listening this song everytime\": 5,\n",
       " 'Fun night! Listened through the next episode of this turkey drama': 5,\n",
       " 'The exception for a short dude: Larenz fineass Tate yum': 4,\n",
       " 'Screw the reviews, I thought Wolverine was awesome. But not enough Dominic Monaghan for my liking.': 2,\n",
       " 'If you followed us recently, PLEASE dont be offended that we haven`t followed back. We hit our limit.   Hopefully we will be free soon.': 1,\n",
       " ' Yes i work 6 to 3...': 5,\n",
       " ' Hmmm, maybe that`s what they meant. They eluded to something brand new but you know how the media is': 3,\n",
       " ' Always have wanted to go to Oz': 5,\n",
       " ' Thx': 5,\n",
       " 'I love this youtube tutorial': 5,\n",
       " '  that`s why I need to be there...To represent the Blackberries': 4,\n",
       " ' Dont know whether that helps. Google it to know more': 3,\n",
       " 'Wolverine Was BOSS! Seriously, And Will.I.Am Was In It, What The **** ??': 1,\n",
       " '  #powerblog What is this powerblog challenge you keep talking about?  I`m a newbie follower': 5,\n",
       " 'almost died. Laptop screen was set to 100% brightness after I reinstalled Windows Vista. Got a headache now  #insanedefaults': 1,\n",
       " 'Trying to decide on a movie with the friends.. not going to well! lol :p  No bible study 2nite, which means ****-day cake  buy my own??': 1,\n",
       " ' Sigh... you know I am...': 2,\n",
       " 'discovered cause of a bug in the new  4 build. Publishing bug fix now, hopefully new beta by tomorrow': 1,\n",
       " 'Here are 4 FREE notebooks to know machine learning well': 5,\n",
       " 'just got home from work.... and is chugging down a big bottle of apple juice.': 1,\n",
       " ' it was only once for my big brother...and I`m done now': 5,\n",
       " 'good news: finally finished my workout that has been paused for 6 hours. bad news: my resistance band is torn': 1,\n",
       " 'FTSK and Mercy Mercedes were amazing tonight.. as always': 5,\n",
       " ' huh what the ****? Smelly? Noooo. I love alex Vixon': 1,\n",
       " 'Went to a party last night. Dindin and I showed up in matching outfits ) GREAT MINDS THINK ALIKE ) Anyway, happy birthday, ate lara': 5,\n",
       " ' Happy b-day! Just woke up on this side of Earth, so wishes are bit late': 4,\n",
       " ' *laughs* I`m glad that you have self confidence - it`s a wonderful trait to have  I`ll applaud extra loud for it, okay?': 4,\n",
       " ' red top tabloids, build em up, knock em down': 5,\n",
       " 'tonight in party w/ my girls (minus vita)': 5,\n",
       " '  why not now you made me sad I thought you`d be jumping for joy': 1,\n",
       " ' Simple my': 5,\n",
       " 'The pics I just uploaded are the baby pics of my cats. Missy is now an adult and a pretty little kitty, but Batty is in kitten heaven now': 5,\n",
       " ' I saw the play of it here, it was amazing': 5,\n",
       " 'i am glad to break my twitter virginity with you two.': 1,\n",
       " 'Dinner with the fam... I have missed them': 2,\n",
       " 'Live That`s what I want. More the better. Bound to be a few bad eggs though, but they will soon learn.': 4,\n",
       " 'Hell yeah Kellynn got a Twitter. Finally.': 5,\n",
       " ' I know   It was worth a shot, though!': 3,\n",
       " 'Just opened a facebook account, I`m a little confused I don`t really get it. Twitter seems much better': 3,\n",
       " 'Ship. I`m stuck.': 1,\n",
       " 'DUSTBIN BABY ON AT 11.30 Cannot wait  x': 1,\n",
       " ' Not going to dwell on it. It happened, it`s passed. Just a shame as he was so supportive! Such is life!  x': 1,\n",
       " 'whats the day going on': 5,\n",
       " 'It looks like the office TV DOES get MLB Network': 4,\n",
       " 'Home empty handed.  No comics found today.  I shall now indulge in my cupcakes from Magnolia Bakery.': 1,\n",
       " 'Laying in bed til workkk... Oh the life. Definitely pinched a nerve.': 1,\n",
       " 'today is a busy day. exhausting!': 5,\n",
       " ' I was going to go on Sunday, but now I`ve got too much going on that weekend': 3,\n",
       " ' Sorry to hear ur flight got cancelled  that blows!!!': 1,\n",
       " 'ohh my tooth is hurts ohh  im sad it very hurts': 1,\n",
       " 'Before I get too distracted, I`d like to thank my new followers for taking the trouble to follow me! And to my others: feelin the love': 5,\n",
       " ' u think u have bills Ha!Ii just finished paying mine that`s y I`m broke': 1,\n",
       " ' Not sure it didn`t say it was 2 big. I jst saw the pics of u on ur last bday. You looked so pretty!! I miss you!!': 2,\n",
       " 'sore throat. Planning the TET outing to Marwell though...good times': 3,\n",
       " 'mcfly gig last nightt omg it was amazin didnt sit down through the whole thing  mcfly did you see me and ma best mate we were in tutus': 3,\n",
       " '2 days without sleep and now a migraine. I thought life postR01 was meant to be relaxing': 2,\n",
       " ' There!': 5,\n",
       " '?sucks!?..': 1,\n",
       " ' whens the sway sway winner announced?': 1,\n",
       " ' K will check it out...': 3,\n",
       " ' doing pretty well, up and wide awake': 4,\n",
       " 'i want to wake up early, and get a coffee tomorrow (today) !  it`s going to be a busyy day! but have to keep writing.. booo whoo!': 3,\n",
       " 'I Miss Daddy and Mommy': 3,\n",
       " 'My dog is officially depressed that my brother`s dogs are gone. He doesn`t want to go outside and when we did, he play half-heartedly.': 1,\n",
       " 'I just realized that I can`t forward text msgs with my iPhone.': 1,\n",
       " 'My frist post... Off to find a new car for my parents, exciting!': 5,\n",
       " 'Argh noo! Missed The Killers on Wossy!  That sucks! Missed out on Brandon. Total failure! Anyone know if it`s repeated? Must investigate!': 1,\n",
       " 'seriously bored without anyone to talk to... but not tired enough for sleep': 1,\n",
       " ' I am lost. Please help me find a good home.': 3,\n",
       " 'It`s a Peter & Gordon morning  -> And I, go to pieces and I wanna hide / Go to pieces and I almost die / Ever... ? http://blip.fm/~5yk38': 1,\n",
       " 'Ok so I`ve now got a bit of a bad back after lifting all drum hardware into my car   downer.': 3,\n",
       " ' LMAO... Smh!  that one threw me off.': 1,\n",
       " ' oh nice going!': 5,\n",
       " 'Is getting ready for work... Working all weekend': 5,\n",
       " 'Gonna celebrate Mothers Day with the family but gonna start the partying tonite': 3,\n",
       " ' i agree with you!': 5,\n",
       " ' I only do computers. Am hopeless at everything else': 1,\n",
       " '90 degrees, gross skies, and thunderstorms...perfect match for my mood  lol': 5,\n",
       " '_2nd aww thanks!': 5,\n",
       " ' Sorry RB is on PS3 for me': 1,\n",
       " 'I saw amazing heeels. But they were too big': 3,\n",
       " 'I just stuck my finger down my throat and there are a bunch of bumps on my tongue & throat.': 2,\n",
       " 'dang last url went down  ? http://blip.fm/~7aigm': 1,\n",
       " ' ohoh i missed all ur tweets  im gonna have to stay awake all night to see the announcement now, **** time difference': 1,\n",
       " ' Damnit all. That sucks.  You were one of the ones I thought I`d drag back lol': 1,\n",
       " ' my boss. She`s moving to NYC': 5,\n",
       " 'this is sooo crazy i have fever..': 1,\n",
       " 'is spending her Saturday morning taking notes for a research essay because some stupid **** recalled the book I`m using. Not fair': 1,\n",
       " 'I think i need some new friends': 3,\n",
       " ' Looking forward to your gig in Ireland!!!  See ya there!': 5,\n",
       " \"I' watching a movie name Adimurie\": 1,\n",
       " 'aww  you loooove me': 1,\n",
       " 'is hungry, twitter.  i want food.': 1,\n",
       " 'awesome lucky you': 5,\n",
       " ' yea, i should know.. but tell me EVERYTHING!  ps: send me direct messages telling..   haha': 1,\n",
       " ' haha im jewish, i love that one': 5,\n",
       " 'had a great time out in the beer garden wit the boyos !! I think the sun got to me a bit though, feel a bit ill !!': 3,\n",
       " ' l`m on 3 days too matt. No fun this weekend.': 1,\n",
       " ' u really don`t think so?  maybe ur right....lol. btw what phone u using? think u told me b4...i might have an app for u': 1,\n",
       " ' I feel your pain. Mine is the same way': 5,\n",
       " 'comes home in two days': 5,\n",
       " ' Sadly no. It didn`t come with one...': 1,\n",
       " 'Cant wait to see my boy tomorrow': 5,\n",
       " ' ehhh no. just a check up. I have a dentist app next week though. getting my molar pulled/root canal.': 2,\n",
       " ' aww I miss driving down elmwood': 3,\n",
       " 'Omg Wango Tango was **** AWSOME! I love my baby for taking me': 5,\n",
       " 'Version 2 of our live, interactive Trans-Siberian ticket planner is launched': 5,\n",
       " '_30439 I really wish I could go!': 1,\n",
       " ' yeah real hard, but I know you`ll get by with it... smile': 3,\n",
       " ' I`m 25 in december that`s not good at all next big birthday is 30  after 21 it flys by for sure': 1,\n",
       " '  This has made my night!!  Way too funny!!': 5,\n",
       " 'Woo CAVS.  Happy Mother`s Day!': 5,\n",
       " ' I make that same face when I get home and your mom is watching soaps.': 1,\n",
       " 'I have to go to work now.': 3,\n",
       " ' I can`t believe you went and got boba without me.': 1,\n",
       " '  And to you too, how are you today?': 5,\n",
       " ' Thanks for the warm welcome! We didn`t make plans   because our arrival time was so up in the air.': 5,\n",
       " '19 days and counting': 1,\n",
       " ' sorry  friends - I`m swamped with deadlines right now and we have family visiting to boot! No charades for me.': 1,\n",
       " 'BRAINFREEZE': 1,\n",
       " 'Just discovered a shortcoming of Gravity. When you use Twitpic (integrated) it doesn`t subtract the pic URL from the 140 character limit': 2,\n",
       " 'My sunburn is peeling,': 2,\n",
       " 'perky purple nail polish isn`t as perky when its chipped': 3,\n",
       " 'http://twitpic.com/4sx96 - before they put a CAMERA in the smokers pit.  i can no longer vandalize that door, without being caught.': 1,\n",
       " 'Laying ALONE!! Since Mook`s soo comfy in his f`n play pen. I thought it was ill at first now I don`t have no one to cuddle with...': 1,\n",
       " 'I hate the dentist': 1,\n",
       " ' nothing aimed at you, just joining in...sorry': 1,\n",
       " 'I`m taking a twitter break. Cell is dying': 1,\n",
       " ' qood morninq': 1,\n",
       " 'writing my english original writing storyyyyy. and listening to `a little respect` by erasure  aaaaaah.': 5,\n",
       " 'needs more followers': 3,\n",
       " 'I wish I could get my nails done  stupid job': 1,\n",
       " 'The little wormy from labyrinth sadly passed away today but its ok as hes still around in a happy ghost form aww  http://twitpic.com/67aim': 3,\n",
       " \" the 'no pants' idea could be the new attempt world-wide to attract business back to the airlines.\": 2,\n",
       " ' Have a good one': 4,\n",
       " ' yep infact she is popular, miss india 99, talented film actress .... and lot more': 1,\n",
       " 'Dosen`t Want To Go To Work Tomorrow': 1,\n",
       " 'Daniel has won DSDS. His voice is great.': 5,\n",
       " 'I need blood O negative': 1,\n",
       " 'was hoping to go to Red Lobster this weekend': 3,\n",
       " '_x_ATL u mean jack barakat`s?! wow so have u ever gone to his house? Hehe i mean ur ssoo lucky to have the address!': 1,\n",
       " 'I sure do hope it becomes 4:20 this afternoon ...': 3,\n",
       " ' it means that you are now FAMOUS. Congrats!': 5,\n",
       " 'My phone passed away yesterday.. He jumped off the table  Searching for a new phone...': 1,\n",
       " 'I have such fantastic friends, including several ones met through here! thanks for being in my life - you are such amazing people!': 5,\n",
       " 'tamlyn wishes she was as cool as my sock draw': 4,\n",
       " ' so no rice or crusty bread with the chili .... aawww': 2,\n",
       " '  We are of like minds this evening , my dear!': 5,\n",
       " 'come and save me from my packing please?!': 1,\n",
       " 'Yes, I love tea. If that makes me typically English then so be it': 5,\n",
       " ' a mouth for sure': 4,\n",
       " '_dec0de I finally just have 1 hour of history... at 3.00 pm! but I went to my highschool at 8.00 am to make some homework with a friend': 3,\n",
       " ' pancakes!! with lemon and sugar thanks!': 5,\n",
       " ' Si, no bueno  I guess I just don`t entertain him ': 2,\n",
       " 'I`m so hunrgy right now and these heels kill me I can hardly walk in them': 1,\n",
       " 'both electronic keys stopped working. there is no keyhole! cant get in my car. so much for technology': 1,\n",
       " ' Yay, three followers! Good to know more than one person in this big wide world likes fishies.': 5,\n",
       " \"'my name is Tony!!!!!! ...not hey!!!!' -  poor tony\": 1,\n",
       " 'Goodmorning': 5,\n",
       " 'Took a shift tomorrow.    I don`t really feel like working right now.': 3,\n",
       " ' I love mine, too . happy motherÃ¯Â¿Â½s day to your mom , John Taylor  . much love to you, too .': 5,\n",
       " 'Saw a black snake in the garden.  Went back for a picture and it was gone': 1,\n",
       " 'http://twitpic.com/4wukt - We bought Ludi her own rug. Dogs are the best': 5,\n",
       " 'No waterfront anymore   faccia luna and clarendon will have to do': 1,\n",
       " 'loves her mum very much! Happy Mothers Day to all the wonderful mothers out there': 5,\n",
       " 'Slipped up and caught the flu  feeling like poop!': 1,\n",
       " 'i have an urge to play wow but i have to wait 2 weeks til im at my dads! 5+47DAYS TIL MCFLY, im so excited  (L)': 1,\n",
       " 'Ok ... the passengers ... no one is alive ... they`re all dead ... you just don`t know it til the end ... then you cry ...': 3,\n",
       " 'Discovered  and  are sharing on G reader with me and didn`t even know it. Sigh.... I`m such a G reader newb.': 1,\n",
       " 'is chilled out tonite, so cannot spew venom or write funny. Seems like these are the only 2 styles she has': 2,\n",
       " ' If u do, please pray 4 me.  Lord knows I need it.': 5,\n",
       " 'aaaaaw i want to live in the USA': 5,\n",
       " 'Morning tweeple': 3,\n",
       " ' Hey, I didn`t get any !!!': 1,\n",
       " ' Now you only have 2 hours to sleep...  - Rest if you need it.': 3,\n",
       " '  That makes my day so much better, it`s been a rough one. Did I mention I love the new photo!': 5,\n",
       " 'I don`t want to sit at home on prom night. Someone hang out with me': 1,\n",
       " 'Is heading home from foot surgery and wishing she had a boyfriend to come over and cuddle with': 3,\n",
       " 'concert tonight  chackin out and not coming tomorrow!': 1,\n",
       " ' what happened? I thought you were coming back today....': 1,\n",
       " ' lol dammit  well then next time then': 2,\n",
       " ' lol. just don`t ever forget me': 5,\n",
       " ' Still jealous': 1,\n",
       " 'Me at Forever 21  Ethan couldn`t be there': 5,\n",
       " 'NOW IM SAD BUT IM NOT GIVING IN FIRST..I DIDNT DO NOTHING!!!!    :**-(': 1,\n",
       " 'this week of mine was not easy!  but finally it`s over! (:': 2,\n",
       " '   Wow what a beautiful picture... and by the way....I am straight....just wanted to let you know!!!     Bella': 5,\n",
       " 'In Arch. Drawing. Checking out MVCC`s CAD degree. Looks good to me': 4,\n",
       " \" 'there are people and then there are pencils' some are sharp, some are not and some can be sharpened  my pencil philosophy.....\": 3,\n",
       " 'just about to go home. I`m usually `mr. positive` but this has been one of those daze. well, 15 mins until tomorrow!': 1,\n",
       " ' but you always have lee. Let`s go to Paris': 3,\n",
       " ' you know you want to come keep me company whilst mum`s at her friends for the night  it`s such a nice evening!': 5,\n",
       " 'cooking with my dad  having lots of fun in the kitchen together': 5,\n",
       " 'Bouncing Rush makes me feel nauseous': 1,\n",
       " 'Off to Woolsery this morning to (hopefully) see North Molton U16 clinch the North Devon League title. Lovely day for it': 5,\n",
       " 'playing singstar without my fave duetter': 4,\n",
       " '  you`re missing out, bb! i`m such a cereal nut, i think i like every kind available.': 5,\n",
       " ' That`s just weird... :\\\\  Oh, and what was it you were drawing for me?': 1,\n",
       " 'Just woke up :o mums singing to her new gn`r cd replacement i bought because im a good daughter': 1,\n",
       " 'The birds are out,, oh man... That`s NOT cool && I didn`t sleep yet for the night!!!': 1,\n",
       " '250 miles down, only 1750 to go. Thats ok, u2 on the radio alwas helps.': 3,\n",
       " 'My Street Fighter IV skills are lacking, can`t beat Seth on easy.': 2,\n",
       " ' FIL 461 with cool people like me': 5,\n",
       " 'Good Morning!!! Work and then it`s ESPN`s Sunday night Baseball. hopefully it won`t get rained out': 5,\n",
       " ' i think it`s under a honeymoon by the good life -- either that or it`s under a honey moon by joseph arthur.': 3,\n",
       " 'my son got stung by a bug for the first time  his little finger is slightly swollen.': 2,\n",
       " ' it was hours ago i came in.... and it`s only now i realised when i went to buy something online': 3,\n",
       " ' oh just referring to our lil exchange on LJ with regards to twitter archive postings.': 1,\n",
       " 'Bumping dj opus in the drunk in the car.  lmao. Don`t act like u don`t know.': 1,\n",
       " 'Why kiss the feet of the people who kick you when you can be anything that you want to?  morning everyone! Hope you have the best day ever': 5,\n",
       " 'Here`s a brief preview:   OMG James is creepy in that role! I`m scared of him': 4,\n",
       " 'I`m missing crab legs and attending my going away instead!': 1,\n",
       " 'Hicks are mean!': 5,\n",
       " 'gettn ready to take a trip to Jersey my dad`s not doing so good, he needs a new heart~whoeva see`s this please say a prayer for my dad': 1,\n",
       " 'back soon, need to run to the shops and cut the grass': 3,\n",
       " 'I`m up. I have a plan to transform my bedroom today. Random.': 5,\n",
       " 'Home until tomorrow. Did my running and spinning. Now time for chiropractor, laundry, shopping, and visiting family. Missing nathan': 4,\n",
       " ' thats another sponsor': 1,\n",
       " ' And most of us are going to be stuck in an office, some without windows': 2,\n",
       " ' No it`s not sad. Should make you proud': 3,\n",
       " '   Sorry, we`ll try to keep it down.': 1,\n",
       " 'is home alone.. Doing hw': 5,\n",
       " 'According to , a quarter of families under six live in poverty.': 3,\n",
       " 'the plan to not spend money is not going well': 1,\n",
       " 'uploading all my bamboozle pictures of facebook': 5,\n",
       " ' congratulations ! you guys finish a month early than we do. booo': 5,\n",
       " ' actually, I wish I was back in Tahoe.  I miss it there.': 3}"
      ]
     },
     "execution_count": 49,
     "metadata": {},
     "output_type": "execute_result"
    }
   ],
   "source": [
    "new_store"
   ]
  },
  {
   "cell_type": "code",
   "execution_count": 51,
   "id": "23e87378-e33a-4d83-809e-ebb1c036dfae",
   "metadata": {},
   "outputs": [],
   "source": [
    "new_dataframe=pd.DataFrame(new_store,index=[0])"
   ]
  },
  {
   "cell_type": "code",
   "execution_count": 55,
   "id": "7e5ead11-42b3-455f-a74c-29424707a523",
   "metadata": {},
   "outputs": [
    {
     "data": {
      "text/html": [
       "<div>\n",
       "<style scoped>\n",
       "    .dataframe tbody tr th:only-of-type {\n",
       "        vertical-align: middle;\n",
       "    }\n",
       "\n",
       "    .dataframe tbody tr th {\n",
       "        vertical-align: top;\n",
       "    }\n",
       "\n",
       "    .dataframe thead th {\n",
       "        text-align: right;\n",
       "    }\n",
       "</style>\n",
       "<table border=\"1\" class=\"dataframe\">\n",
       "  <thead>\n",
       "    <tr style=\"text-align: right;\">\n",
       "      <th></th>\n",
       "      <th>0</th>\n",
       "    </tr>\n",
       "  </thead>\n",
       "  <tbody>\n",
       "    <tr>\n",
       "      <th>What a great day!!! Looks like dream.</th>\n",
       "      <td>5</td>\n",
       "    </tr>\n",
       "    <tr>\n",
       "      <th>I feel sorry, I miss you here in the sea beach</th>\n",
       "      <td>1</td>\n",
       "    </tr>\n",
       "    <tr>\n",
       "      <th>Don't angry me</th>\n",
       "      <td>5</td>\n",
       "    </tr>\n",
       "    <tr>\n",
       "      <th>We attend in the class just for listening teachers reading on slide. Just Nonsence</th>\n",
       "      <td>1</td>\n",
       "    </tr>\n",
       "    <tr>\n",
       "      <th>Those who want to go, let them go</th>\n",
       "      <td>1</td>\n",
       "    </tr>\n",
       "    <tr>\n",
       "      <th>...</th>\n",
       "      <td>...</td>\n",
       "    </tr>\n",
       "    <tr>\n",
       "      <th>According to , a quarter of families under six live in poverty.</th>\n",
       "      <td>3</td>\n",
       "    </tr>\n",
       "    <tr>\n",
       "      <th>the plan to not spend money is not going well</th>\n",
       "      <td>1</td>\n",
       "    </tr>\n",
       "    <tr>\n",
       "      <th>uploading all my bamboozle pictures of facebook</th>\n",
       "      <td>5</td>\n",
       "    </tr>\n",
       "    <tr>\n",
       "      <th>congratulations ! you guys finish a month early than we do. booo</th>\n",
       "      <td>5</td>\n",
       "    </tr>\n",
       "    <tr>\n",
       "      <th>actually, I wish I was back in Tahoe.  I miss it there.</th>\n",
       "      <td>3</td>\n",
       "    </tr>\n",
       "  </tbody>\n",
       "</table>\n",
       "<p>394 rows × 1 columns</p>\n",
       "</div>"
      ],
      "text/plain": [
       "                                                    0\n",
       "What a great day!!! Looks like dream.               5\n",
       "I feel sorry, I miss you here in the sea beach      1\n",
       "Don't angry me                                      5\n",
       "We attend in the class just for listening teach...  1\n",
       "Those who want to go, let them go                   1\n",
       "...                                                ..\n",
       "According to , a quarter of families under six ...  3\n",
       "the plan to not spend money is not going well       1\n",
       "uploading all my bamboozle pictures of facebook     5\n",
       " congratulations ! you guys finish a month earl...  5\n",
       " actually, I wish I was back in Tahoe.  I miss ...  3\n",
       "\n",
       "[394 rows x 1 columns]"
      ]
     },
     "execution_count": 55,
     "metadata": {},
     "output_type": "execute_result"
    }
   ],
   "source": [
    "new_dataframe.T"
   ]
  },
  {
   "cell_type": "code",
   "execution_count": null,
   "id": "771a5173-db45-4e3c-bd0d-b643f726e89d",
   "metadata": {},
   "outputs": [],
   "source": []
  }
 ],
 "metadata": {
  "kernelspec": {
   "display_name": "Python 3 (ipykernel)",
   "language": "python",
   "name": "python3"
  },
  "language_info": {
   "codemirror_mode": {
    "name": "ipython",
    "version": 3
   },
   "file_extension": ".py",
   "mimetype": "text/x-python",
   "name": "python",
   "nbconvert_exporter": "python",
   "pygments_lexer": "ipython3",
   "version": "3.11.5"
  }
 },
 "nbformat": 4,
 "nbformat_minor": 5
}
